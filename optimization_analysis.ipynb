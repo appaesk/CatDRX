{
 "cells": [
  {
   "cell_type": "code",
   "execution_count": null,
   "id": "eb871123",
   "metadata": {},
   "outputs": [],
   "source": [
    "import os\n",
    "import sys\n",
    "from rdkit import Chem\n",
    "import time\n",
    "import math\n",
    "from tqdm import tqdm\n",
    "import numpy as np\n",
    "from sklearn.linear_model import LinearRegression \n",
    "from sklearn import metrics\n",
    "import torch.optim as optim\n",
    "import torch\n",
    "from torch import nn\n",
    "import numpy as np\n",
    "import pandas as pd\n",
    "# %matplotlib inline\n",
    "import matplotlib.pyplot as plt\n",
    "import seaborn as sns\n",
    "import pickle\n",
    "from torch_geometric.loader import DataLoader\n",
    "from rdkit.Chem import AllChem\n",
    "from rdkit.Chem import RDConfig\n",
    "from rdkit.Chem import Descriptors\n",
    "from rdkit.Chem import rdDepictor\n",
    "sys.path.append(os.path.join(RDConfig.RDContribDir, \"SA_Score\"))\n",
    "import sascorer\n",
    "sns.set_theme(style=\"white\", palette=None)\n",
    "\n",
    "from rdkit import RDLogger\n",
    "RDLogger.DisableLog('rdApp.*')\n",
    "from rdkit.Chem.Draw import IPythonConsole\n",
    "# IPythonConsole.molSize = (200, 200)   # Change image size\n",
    "IPythonConsole.ipython_useSVG = True  # Change output to SVG\n",
    "\n",
    "from catcvae.utils import smiles_to_mol, mol_to_smiles\n",
    "from dataset import _dataset"
   ]
  },
  {
   "cell_type": "code",
   "execution_count": null,
   "id": "cb6f1f39",
   "metadata": {},
   "outputs": [],
   "source": [
    "def display_molecule(molecules, title=None, texts=None):\n",
    "    fig, axs = plt.subplots(math.ceil(len(molecules)/5), 5, figsize=(15, math.ceil(len(molecules)*0.75)), dpi=300)\n",
    "    fig.subplots_adjust(hspace=.5, wspace=.001)\n",
    "    axs = axs.ravel()\n",
    "    for i in range(math.ceil(len(molecules)/5)*5):\n",
    "        if i < len(molecules):\n",
    "            mol = molecules[i]\n",
    "            ax = axs[i]\n",
    "            ax.imshow(Chem.Draw.MolToImage(mol))\n",
    "            ax.axis('off')\n",
    "            if title:\n",
    "                ax.set_title(title[i])\n",
    "            if texts:\n",
    "                ax.text(100, 350, texts[i], fontsize=12)\n",
    "        else:\n",
    "            ax = axs[i]\n",
    "            ax.axis('off')"
   ]
  },
  {
   "cell_type": "markdown",
   "id": "0677569e",
   "metadata": {},
   "source": [
    "# Read file"
   ]
  },
  {
   "cell_type": "code",
   "execution_count": null,
   "id": "d5050100",
   "metadata": {},
   "outputs": [],
   "source": [
    "file = 'sm_test1'\n",
    "seed = 0\n",
    "folder = 'output_0_20250524_151005'\n",
    "optimize_folder = 'optimize_smiles_20250525_104746'\n",
    "df = pd.read_csv('dataset/'+file+'/'+folder+'/'+optimize_folder+'/smiles.txt', sep=' ', header=None)\n",
    "if len(df.columns) == 4:\n",
    "    df.columns = ['round', 'smiles', 'predicted_value', 'optimize_value']\n",
    "elif len(df.columns) == 6:\n",
    "    df.columns = ['round', 'smiles', 'predicted_value', 'optimize_value', 'starting_smiles', 'true_value']\n",
    "\n",
    "df"
   ]
  },
  {
   "cell_type": "code",
   "execution_count": null,
   "id": "6b94fa26",
   "metadata": {},
   "outputs": [],
   "source": [
    "df = df.drop_duplicates(subset=['round', 'smiles'])\n",
    "df = df.reset_index(drop=True)\n",
    "len(df)"
   ]
  },
  {
   "cell_type": "code",
   "execution_count": null,
   "id": "78b45f1a",
   "metadata": {},
   "outputs": [],
   "source": [
    "# finetune dataset\n",
    "# dataset\n",
    "df_dataset = pd.read_csv('dataset/'+file+'/datasets_dobj_split_0.csv')\n",
    "df_dataset_test = df_dataset[df_dataset['s']== 'test']\n",
    "df_dataset = df_dataset[df_dataset['s']!= 'test']\n",
    "\n",
    "print(\"dataset: \", len(df_dataset))\n",
    "print(\"dataset_test: \", len(df_dataset_test))"
   ]
  },
  {
   "cell_type": "code",
   "execution_count": null,
   "id": "0103d9dd",
   "metadata": {},
   "outputs": [],
   "source": [
    "# only not in training dataset\n",
    "smiles_dataset = [Chem.CanonSmiles(smiles, useChiral=False) for smiles in df_dataset['smiles_catalyst'].values]\n",
    "\n",
    "novel_molecules_index = []\n",
    "for i, row in df.iterrows():\n",
    "    smiles_cat = Chem.CanonSmiles(row['smiles'], useChiral=False)\n",
    "    if smiles_cat not in smiles_dataset:\n",
    "        novel_molecules_index.append(i)\n",
    "\n",
    "df = df.iloc[novel_molecules_index]\n",
    "df = df.reset_index(drop=True)\n",
    "print(\"df_novel: \", len(df))"
   ]
  },
  {
   "cell_type": "code",
   "execution_count": null,
   "id": "0c35bc50",
   "metadata": {},
   "outputs": [],
   "source": [
    "if 'starting_smiles' not in df.columns:\n",
    "    # group by 'smiles' and average the 'predicted_value' and 'optimize_value' and  std of 'predicted_value'\n",
    "    df_group = df.groupby(['smiles']).agg({'predicted_value': ['mean', 'std'], 'optimize_value': 'mean'}).reset_index()\n",
    "    df_group.columns = ['smiles', 'predicted_value', 'predicted_std', 'optimize_value']\n",
    "    df_group = df_group.fillna(0)\n",
    "    df_group = df_group[df_group['optimize_value'] < 100]\n",
    "\n",
    "    df_group = df_group.sort_values(by='predicted_value', ascending=False)\n",
    "    df_group = df_group.reset_index(drop=True)\n",
    "    df_sample = df_group[:20] if len(df_group) > 20 else df_group\n",
    "    mol = [Chem.MolFromSmiles(x) for x in df_sample['smiles']]\n",
    "    texts = [f'{p:.2f}+/-{std:.2f}' if std != 0 else f'{p:.2f}' \n",
    "             for p, std in zip(df_sample['predicted_value'], df_sample['predicted_std'])]\n",
    "    \n",
    "    \n",
    "\n",
    "    display_molecule(mol, texts=texts)\n",
    "\n",
    "    print(len(df_group))\n",
    "    # save to excel with molecule image \n",
    "    from rdkit.Chem import PandasTools\n",
    "    df_excel = df_group.copy()\n",
    "    df_excel = df_excel[['smiles', 'predicted_value']]\n",
    "    df_excel['MolImage'] = df_excel['smiles'].apply(Chem.MolFromSmiles)\n",
    "    PandasTools.SaveXlsxFromFrame(df_excel, 'dataset/'+file+'/'+folder+'/'+optimize_folder+'/optimize.xlsx', molCol='MolImage')"
   ]
  },
  {
   "cell_type": "code",
   "execution_count": null,
   "id": "f2e2abf9",
   "metadata": {},
   "outputs": [],
   "source": [
    "if 'starting_smiles' in df.columns:\n",
    "    r = range(max(df['round'])+1)\n",
    "    for i in r:\n",
    "        df_i = df[df['round'] == i]\n",
    "        df_i = df_i.sort_values(by='predicted_value', ascending=False)\n",
    "        df_i = df_i.reset_index(drop=True)\n",
    "        print(f'round {i} : {len(df_i)}')\n",
    "        mols = [Chem.MolFromSmiles(df_i['starting_smiles'].values[0])]\n",
    "        title = ['starting_smiles']\n",
    "        texts = [df_i['true_value'].values[0]]\n",
    "        smiles_unique = [df_i['starting_smiles'].values[0]]\n",
    "        for j in range(4):\n",
    "            try:\n",
    "                if df_i['smiles'].values[j] not in smiles_unique:\n",
    "                    mols.append(Chem.MolFromSmiles(df_i['smiles'].values[j]))\n",
    "                    title.append('')\n",
    "                    texts.append(df_i['predicted_value'].values[j])\n",
    "                    smiles_unique.append(df_i['smiles'].values[j])\n",
    "            except:\n",
    "                pass\n",
    "\n",
    "        # display_molecule(mols, title=title, texts=texts)\n",
    "\n",
    "    print(len(df))\n",
    "    # save to excel with molecule image \n",
    "    from rdkit.Chem import PandasTools\n",
    "    df_excel = df.copy()\n",
    "    df_excel = df_excel[['starting_smiles', 'true_value' , 'smiles', 'predicted_value']]\n",
    "    df_excel['MolImage_starting'] = df_excel['starting_smiles'].apply(Chem.MolFromSmiles)\n",
    "    df_excel['MolImage'] = df_excel['smiles'].apply(Chem.MolFromSmiles)\n",
    "    PandasTools.SaveXlsxFromFrame(df_excel, 'dataset/'+file+'/'+folder+'/'+optimize_folder+'/optimize.xlsx', molCol='MolImage')"
   ]
  }
 ],
 "metadata": {
  "kernelspec": {
   "display_name": "multimolrep38",
   "language": "python",
   "name": "python3"
  },
  "language_info": {
   "codemirror_mode": {
    "name": "ipython",
    "version": 3
   },
   "file_extension": ".py",
   "mimetype": "text/x-python",
   "name": "python",
   "nbconvert_exporter": "python",
   "pygments_lexer": "ipython3",
   "version": "3.8.18"
  }
 },
 "nbformat": 4,
 "nbformat_minor": 5
}
