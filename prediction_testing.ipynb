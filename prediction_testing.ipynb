{
 "cells": [
  {
   "cell_type": "markdown",
   "metadata": {},
   "source": [
    "# Library"
   ]
  },
  {
   "cell_type": "code",
   "execution_count": 1,
   "metadata": {},
   "outputs": [
    {
     "name": "stderr",
     "output_type": "stream",
     "text": [
      "No normalization for SPS. Feature removed!\n",
      "No normalization for AvgIpc. Feature removed!\n",
      "2025-05-14 16:43:25.312004: I tensorflow/core/platform/cpu_feature_guard.cc:193] This TensorFlow binary is optimized with oneAPI Deep Neural Network Library (oneDNN) to use the following CPU instructions in performance-critical operations:  SSE4.1 SSE4.2 AVX AVX2 AVX512F AVX512_VNNI FMA\n",
      "To enable them in other operations, rebuild TensorFlow with the appropriate compiler flags.\n",
      "Skipped loading modules with transformers dependency. No module named 'transformers'\n",
      "cannot import name 'HuggingFaceModel' from 'deepchem.models.torch_models' (/opt/anaconda3/envs/multimolrep38/lib/python3.8/site-packages/deepchem/models/torch_models/__init__.py)\n",
      "Skipped loading some Jax models, missing a dependency. No module named 'jax'\n"
     ]
    }
   ],
   "source": [
    "# Library\n",
    "import os\n",
    "import time\n",
    "import numpy as np\n",
    "import pandas as pd\n",
    "import numpy as np\n",
    "import seaborn as sns\n",
    "import pickle\n",
    "from tqdm import tqdm\n",
    "from sklearn.linear_model import LinearRegression \n",
    "from sklearn.ensemble import RandomForestRegressor\n",
    "from sklearn import metrics\n",
    "# torch\n",
    "import torch\n",
    "from torch import nn\n",
    "import torch.optim as optim\n",
    "import matplotlib.pyplot as plt\n",
    "from torch_geometric.loader import DataLoader\n",
    "from torch.optim.lr_scheduler import MultiStepLR\n",
    "# rdkit\n",
    "from rdkit import Chem\n",
    "from rdkit.Chem import AllChem\n",
    "from rdkit import RDLogger\n",
    "RDLogger.DisableLog('rdApp.*')\n",
    "# catcvae\n",
    "from catcvae.setup import ModelArgumentParser\n",
    "from catcvae.molgraph import atom_encoder_m, bond_encoder_m, atom_decoder_m, bond_decoder_m, max_atom_number, matrix_size, matrix2mol\n",
    "from catcvae.dataset import getDatasetFromFile, getDatasetObject, getDatasetSplittingFinetune, getDataLoader, getDataObject\n",
    "from catcvae.condition import getConditionDim, getOneHotCondition\n",
    "from catcvae.classweight import getClassWeight\n",
    "from catcvae.loss import VAELoss, Annealer, recon_loss_fn, cosine_similarity, ALLLoss\n",
    "from catcvae.ae import CVAE\n",
    "from catcvae.ae import latent_space_quality, sample_latent_space\n",
    "from catcvae.training import save_model, save_loss, save_report, save_model_latest\n",
    "from catcvae.prediction import NN\n",
    "from catcvae.latent import embed, save_latent\n"
   ]
  },
  {
   "cell_type": "markdown",
   "metadata": {},
   "source": [
    "# Arguments"
   ]
  },
  {
   "cell_type": "code",
   "execution_count": 2,
   "metadata": {},
   "outputs": [
    {
     "name": "stdout",
     "output_type": "stream",
     "text": [
      "args: Namespace(AE_loss='CE', AE_type='CVAE', JK='last', alpha=1, annealing=True, annealing_shape='cosine', annealing_slope_length=100, augmentation=0, batch_size=8, beta=0.001, class_weight='enabled', cond_dim=8, condition_dict={'mw_ligand': {'type': 'continuous', 'list': [100, 200, 300, 400, 500, 1000]}}, condition_extra=None, correction='enabled', decay=5e-05, decoder_type='GRAPH', decoding_setting={'type': 'GRAPH', 'emb_dim': 256, 'emb_cond_dim': 256, 'cond_dim': 8, 'max_atom_number': 100, 'len_atom_type': 68, 'len_bond_type': 6, 'matrix_size': 66900, 'num_layer': 3, 'dropout_ratio': 0.3, 'teacher_forcing': True, 'guide_tensor': False}, detach_target=True, device=device(type='cpu'), dropout_ratio=0.3, emb_cond_dim=256, emb_dim=256, embedding_setting={'type': 'None', 'num_layer': 3, 'emb_dim': 256, 'emb_cond_dim': 256, 'JK': 'last', 'readout': 'mean', 'dropout_ratio': 0.3, 'gnn_type': 'gat'}, embedding_type='None', encoder_type='MATRIX', encoding_setting={'type': 'MATRIX', 'emb_dim': 256, 'max_atom_number': 100, 'len_atom_type': 68, 'len_bond_type': 6, 'matrix_size': 66900, 'num_layer': 3, 'dropout_ratio': 0.3}, epochs=800, file='niwa_lewis_246_ligand_2', folder_path='dataset/niwa_lewis_246_ligand_2', from_around_mol='enabled', from_around_mol_cond='enabled', from_guide=None, from_training_space='None', gnn_lr_scale=1.0, gnn_type='gat', gpu=-1, graphtask='regression', guide_tensor=False, ids='index', len_atom_type=68, len_bond_type=6, lr=0.001, lr_scale=1.0, matrix_size=66900, max_atom_number=100, name=None, num_layer=3, predictiontask='yield', pretrained_file='niwa_lewis_246_ligand_2', pretrained_time='3_20250412_171617_3671575_C', readout='mean', seed=0, smiles={'reactant': 'Input1_Input2', 'reagent': 'PdCatalyst_Additive', 'product': 'Product', 'catalyst': 'Ligand'}, splitting=None, task='Output', teacher_forcing=True, time='Time_h')\n"
     ]
    },
    {
     "data": {
      "text/plain": [
       "Namespace(AE_loss='CE', AE_type='CVAE', JK='last', alpha=1, annealing=True, annealing_shape='cosine', annealing_slope_length=100, augmentation=0, batch_size=8, beta=0.001, class_weight='enabled', cond_dim=8, condition_dict={'mw_ligand': {'type': 'continuous', 'list': [100, 200, 300, 400, 500, 1000]}}, condition_extra=None, correction='enabled', decay=5e-05, decoder_type='GRAPH', decoding_setting={'type': 'GRAPH', 'emb_dim': 256, 'emb_cond_dim': 256, 'cond_dim': 8, 'max_atom_number': 100, 'len_atom_type': 68, 'len_bond_type': 6, 'matrix_size': 66900, 'num_layer': 3, 'dropout_ratio': 0.3, 'teacher_forcing': True, 'guide_tensor': False}, detach_target=True, device=device(type='cpu'), dropout_ratio=0.3, emb_cond_dim=256, emb_dim=256, embedding_setting={'type': 'None', 'num_layer': 3, 'emb_dim': 256, 'emb_cond_dim': 256, 'JK': 'last', 'readout': 'mean', 'dropout_ratio': 0.3, 'gnn_type': 'gat'}, embedding_type='None', encoder_type='MATRIX', encoding_setting={'type': 'MATRIX', 'emb_dim': 256, 'max_atom_number': 100, 'len_atom_type': 68, 'len_bond_type': 6, 'matrix_size': 66900, 'num_layer': 3, 'dropout_ratio': 0.3}, epochs=800, file='niwa_lewis_246_ligand_2', folder_path='dataset/niwa_lewis_246_ligand_2', from_around_mol='enabled', from_around_mol_cond='enabled', from_guide=None, from_training_space='None', gnn_lr_scale=1.0, gnn_type='gat', gpu=-1, graphtask='regression', guide_tensor=False, ids='index', len_atom_type=68, len_bond_type=6, lr=0.001, lr_scale=1.0, matrix_size=66900, max_atom_number=100, name=None, num_layer=3, predictiontask='yield', pretrained_file='niwa_lewis_246_ligand_2', pretrained_time='3_20250412_171617_3671575_C', readout='mean', seed=0, smiles={'reactant': 'Input1_Input2', 'reagent': 'PdCatalyst_Additive', 'product': 'Product', 'catalyst': 'Ligand'}, splitting=None, task='Output', teacher_forcing=True, time='Time_h')"
      ]
     },
     "execution_count": 2,
     "metadata": {},
     "output_type": "execute_result"
    }
   ],
   "source": [
    "# settting\n",
    "parser = ModelArgumentParser()\n",
    "args = parser.setArgument('''\n",
    "--file niwa_lewis_246_ligand_2\n",
    "--seed 0\n",
    "--AE_type CVAE\n",
    "--emb_dim 256\n",
    "--emb_cond_dim 256\n",
    "--embedding_type None\n",
    "--encoder_type MATRIX\n",
    "--decoder_type GRAPH\n",
    "--num_layer 3\n",
    "--dropout_ratio 0.3 \n",
    "--gnn_type gat\n",
    "--readout mean\n",
    "--beta 0.001 \n",
    "--batch_size 8\n",
    "--epochs 800 \n",
    "--lr 0.001 \n",
    "--decay 0.00005\n",
    "--class_weight enabled\n",
    "--teacher_forcing \n",
    "--pretrained_file niwa_lewis_246_ligand_2\n",
    "--pretrained_time 3_20250412_171617_3671575_C\n",
    "'''.split())\n",
    "\n",
    "args"
   ]
  },
  {
   "cell_type": "markdown",
   "metadata": {},
   "source": [
    "# Dataset"
   ]
  },
  {
   "cell_type": "code",
   "execution_count": 3,
   "metadata": {},
   "outputs": [
    {
     "name": "stdout",
     "output_type": "stream",
     "text": [
      "datasets: 29\n",
      "datasets_dobj: 29\n",
      "datasets_dobj_train: 23\n",
      "datasets_dobj_val: 6\n",
      "datasets_dobj_test: 6\n"
     ]
    }
   ],
   "source": [
    "# finetune dataset\n",
    "path_train = args.folder_path+'/datasets_dobj_train_'+str(args.seed)+'.pkl'\n",
    "# if os.path.exists(path_train):\n",
    "#     # get datasets splitting\n",
    "#     datasets_dobj_train, datasets_dobj_val, datasets_dobj_test = getDatasetSplittingFinetune(args, datasets_df=None, datasets_dobj=None, augmentation=args.augmentation)\n",
    "#     print('datasets_dobj_train:', len(datasets_dobj_train))\n",
    "#     print('datasets_dobj_val:', len(datasets_dobj_val))\n",
    "#     print('datasets_dobj_test:', len(datasets_dobj_test))\n",
    "# else:\n",
    "# get datasets\n",
    "datasets_df = getDatasetFromFile(args.file, args.smiles, args.time, args.task, args.splitting, args.ids, list(args.condition_dict.keys()))\n",
    "print('datasets:', len(datasets_df))\n",
    "# get datasets object\n",
    "datasets_dobj = getDatasetObject(args, datasets_df)\n",
    "print('datasets_dobj:', len(datasets_dobj))\n",
    "# get datasets splitting\n",
    "datasets_dobj_train, datasets_dobj_val, datasets_dobj_test = getDatasetSplittingFinetune(args, datasets_df, datasets_dobj, augmentation=args.augmentation)\n",
    "print('datasets_dobj_train:', len(datasets_dobj_train))\n",
    "print('datasets_dobj_val:', len(datasets_dobj_val))\n",
    "print('datasets_dobj_test:', len(datasets_dobj_test))\n",
    "    \n",
    "datasets_dobj_val = datasets_dobj_test\n",
    "loader_train, loader_val, loader_test = getDataLoader(args, datasets_dobj_train, datasets_dobj_val, datasets_dobj_test)\n",
    "loader_all = DataLoader(datasets_dobj, batch_size=args.batch_size, shuffle=False, follow_batch=['x_reactant', 'x_reagent', 'x_product', 'x_catalyst'])\n",
    "    "
   ]
  },
  {
   "cell_type": "code",
   "execution_count": 4,
   "metadata": {},
   "outputs": [],
   "source": [
    "import io\n",
    "\n",
    "class CPU_Unpickler(pickle.Unpickler):\n",
    "    def find_class(self, module, name):\n",
    "        if module == 'torch.storage' and name == '_load_from_bytes':\n",
    "            return lambda b: torch.load(io.BytesIO(b), map_location='cpu')\n",
    "        else: return super().find_class(module, name)\n",
    "\n",
    "#contents = pickle.load(f) becomes...\n",
    "# contents = CPU_Unpickler(f).load()"
   ]
  },
  {
   "cell_type": "code",
   "execution_count": 5,
   "metadata": {},
   "outputs": [],
   "source": [
    "# Class weights\n",
    "if args.class_weight == 'enabled':\n",
    "    # check if class weights exist\n",
    "    if os.path.exists(args.folder_path+'/class_weights.pkl'):\n",
    "        with open(args.folder_path+'/class_weights.pkl', 'rb') as f:\n",
    "            # class_weights = pickle.load(f)\n",
    "            class_weights = CPU_Unpickler(f).load()\n",
    "        # class_weights = torch.load(folder_path+'/class_weights.pkl', map_location=torch.device(args.device))\n",
    "        args.class_weights = class_weights\n",
    "    else:\n",
    "        class_weights = getClassWeight(datasets_dobj_train, matrix_size, args.device)\n",
    "        args.class_weights = class_weights\n",
    "        print(args.class_weights)\n",
    "        with open(args.folder_path+'/class_weights.pkl', 'wb') as f:\n",
    "            pickle.dump(class_weights, f)\n",
    "else:\n",
    "    args.class_weights = None\n",
    "\n",
    "# print(args.class_weights)"
   ]
  },
  {
   "cell_type": "markdown",
   "metadata": {},
   "source": [
    "# Model"
   ]
  },
  {
   "cell_type": "markdown",
   "metadata": {},
   "source": [
    "## CVAE"
   ]
  },
  {
   "cell_type": "code",
   "execution_count": 6,
   "metadata": {},
   "outputs": [
    {
     "name": "stdout",
     "output_type": "stream",
     "text": [
      "CVAE(\n",
      "  (embedding_reactant): GNN(\n",
      "    (x_linear): Linear(in_features=101, out_features=256, bias=True)\n",
      "    (gnns): ModuleList(\n",
      "      (0-2): 3 x GATConv(256, 256, heads=1)\n",
      "    )\n",
      "    (batch_norms): ModuleList(\n",
      "      (0-2): 3 x BatchNorm1d(256, eps=1e-05, momentum=0.1, affine=True, track_running_stats=True)\n",
      "    )\n",
      "  )\n",
      "  (embedding_reagent): GNN(\n",
      "    (x_linear): Linear(in_features=101, out_features=256, bias=True)\n",
      "    (gnns): ModuleList(\n",
      "      (0-2): 3 x GATConv(256, 256, heads=1)\n",
      "    )\n",
      "    (batch_norms): ModuleList(\n",
      "      (0-2): 3 x BatchNorm1d(256, eps=1e-05, momentum=0.1, affine=True, track_running_stats=True)\n",
      "    )\n",
      "  )\n",
      "  (embedding_product): GNN(\n",
      "    (x_linear): Linear(in_features=101, out_features=256, bias=True)\n",
      "    (gnns): ModuleList(\n",
      "      (0-2): 3 x GATConv(256, 256, heads=1)\n",
      "    )\n",
      "    (batch_norms): ModuleList(\n",
      "      (0-2): 3 x BatchNorm1d(256, eps=1e-05, momentum=0.1, affine=True, track_running_stats=True)\n",
      "    )\n",
      "  )\n",
      "  (encoder): MATRIXENCODER(\n",
      "    (linear_atom_number): Linear(in_features=100, out_features=256, bias=True)\n",
      "    (linear_2): Linear(in_features=256, out_features=256, bias=True)\n",
      "    (linear_1): Linear(in_features=256, out_features=256, bias=True)\n",
      "    (linear_atom_type): Linear(in_features=68, out_features=68, bias=True)\n",
      "    (linear_4): Linear(in_features=6800, out_features=256, bias=True)\n",
      "    (linear_3): Linear(in_features=256, out_features=256, bias=True)\n",
      "    (linear_bond_type): Linear(in_features=6, out_features=6, bias=True)\n",
      "    (linear_8): Linear(in_features=600, out_features=600, bias=True)\n",
      "    (linear_7): Linear(in_features=60000, out_features=256, bias=True)\n",
      "  )\n",
      "  (fc_mu): Linear(in_features=1032, out_features=256, bias=True)\n",
      "  (fc_logvar): Linear(in_features=1032, out_features=256, bias=True)\n",
      "  (decoder): GRAPHDECODER(\n",
      "    (linear_1): Linear(in_features=1032, out_features=256, bias=True)\n",
      "    (linear_2): Linear(in_features=256, out_features=256, bias=True)\n",
      "    (linear_atom_number): Linear(in_features=256, out_features=100, bias=True)\n",
      "    (linear_3): Linear(in_features=1132, out_features=256, bias=True)\n",
      "    (linear_4): Linear(in_features=256, out_features=6800, bias=True)\n",
      "    (linear_atom_type): Linear(in_features=68, out_features=68, bias=True)\n",
      "    (linear_node_embedding): Linear(in_features=68, out_features=256, bias=True)\n",
      "    (linear_pre_adjacency_matrix): Linear(in_features=256, out_features=1, bias=True)\n",
      "    (linear_7): Linear(in_features=10000, out_features=60000, bias=True)\n",
      "    (linear_8): Linear(in_features=600, out_features=600, bias=True)\n",
      "    (linear_bond_type): Linear(in_features=6, out_features=6, bias=True)\n",
      "  )\n",
      ")\n",
      "NN(\n",
      "  (model): Sequential(\n",
      "    (0): Linear(in_features=1032, out_features=516, bias=True)\n",
      "    (1): ReLU()\n",
      "    (2): Linear(in_features=516, out_features=258, bias=True)\n",
      "    (3): ReLU()\n",
      "    (4): Linear(in_features=258, out_features=1, bias=True)\n",
      "  )\n",
      ")\n"
     ]
    }
   ],
   "source": [
    "# setup model\n",
    "AE = CVAE(embedding_setting=args.embedding_setting,\n",
    "        encoding_setting=args.encoding_setting, \n",
    "        decoding_setting=args.decoding_setting,\n",
    "        emb_dim=args.emb_dim,\n",
    "        emb_cond_dim=args.emb_cond_dim,\n",
    "        cond_dim=args.cond_dim, \n",
    "        device=args.device).to(args.device)\n",
    "print(AE)\n",
    "\n",
    "NN_PREDICTION = NN(in_dim=args.emb_dim+(3*args.emb_cond_dim)+args.cond_dim, out_dim_class=1).to(args.device)\n",
    "# NN_PREDICTION = NN_TASK_NW(in_dim=args.emb_dim+(3*args.emb_cond_dim)+args.cond_dim, out_dim_class=1).to(args.device)\n",
    "# NN_PREDICTION = NN(in_dim=args.emb_dim*2, out_dim_class=1).to(args.device)\n",
    "print(NN_PREDICTION)"
   ]
  },
  {
   "cell_type": "markdown",
   "metadata": {},
   "source": [
    "## Load"
   ]
  },
  {
   "cell_type": "code",
   "execution_count": null,
   "metadata": {},
   "outputs": [],
   "source": [
    "model_name = ['output_0_3_20250412_171617_3671575_C'] # can be multiple models"
   ]
  },
  {
   "cell_type": "code",
   "execution_count": null,
   "metadata": {},
   "outputs": [],
   "source": [
    "result_all = pd.DataFrame()\n",
    "\n",
    "for m_name in model_name:\n",
    "    # finetuned dataset folder \n",
    "    # file_trained = 'ord_rxn_cat_yields_final_latest2'\n",
    "    file_trained = args.pretrained_file\n",
    "    # seed_trained = 0\n",
    "    # time_trained = '20240913_012944'\n",
    "    # time_trained = args.pretrained_time\n",
    "    output_model_dir_trained = 'dataset/'+file_trained+'/'+m_name\n",
    "    epoch_selected = None\n",
    "    AE.load_state_dict(torch.load(output_model_dir_trained + '/model_ae.pth', map_location=torch.device(args.device)))\n",
    "    NN_PREDICTION.load_state_dict(torch.load(output_model_dir_trained + '/model_nn.pth', map_location=torch.device(args.device)))\n",
    "\n",
    "    AE.eval()\n",
    "    NN_PREDICTION.eval()\n",
    "\n",
    "    # run embedding\n",
    "    # mol_latent_train, mol_embedding_train, y_true_train, y_pred_train, ids_train, c_train = embed(loader_train, AE, NN_PREDICTION, device=args.device)\n",
    "    # mol_latent_val, mol_embedding_val, y_true_val, y_pred_val, ids_val, c_val = embed(loader_val, AE, NN_PREDICTION, device=args.device)\n",
    "    # mol_latent_test, mol_embedding_test, y_true_test, y_pred_test, ids_test, c_test = embed(loader_test, AE, NN_PREDICTION, device=args.device)\n",
    "    mol_latent_all, mol_embedding_all, y_true_all, y_pred_all, ids_all, c_all = embed(loader_all, AE, NN_PREDICTION, device=args.device)\n",
    "\n",
    "    # # min max for each dimension in mol_embedding\n",
    "    # min_val = np.min(mol_embedding_train, axis=0)\n",
    "    # max_val = np.max(mol_embedding_train, axis=0)\n",
    "    # dimension_training = list(zip(np.floor(min_val), np.ceil(max_val)))\n",
    "    # print('dimension:', dimension_training)\n",
    "    # print('len(dimension):', len(dimension_training))\n",
    "\n",
    "    y_true_all = torch.tensor(y_true_all.tolist())\n",
    "    y_pred_all = torch.tensor(y_pred_all.tolist())\n",
    "\n",
    "    # Convert ids_all to a list to avoid issues with string data types\n",
    "    ids_all = ids_all.tolist()\n",
    "\n",
    "    result_df = pd.DataFrame({'model': m_name, 'id': ids_all, 'y_true': y_true_all, 'y_pred': y_pred_all})\n",
    "    result_all = pd.concat([result_all, result_df], axis=0)"
   ]
  },
  {
   "cell_type": "code",
   "execution_count": 9,
   "metadata": {},
   "outputs": [
    {
     "data": {
      "application/vnd.microsoft.datawrangler.viewer.v0+json": {
       "columns": [
        {
         "name": "index",
         "rawType": "int64",
         "type": "integer"
        },
        {
         "name": "model",
         "rawType": "object",
         "type": "string"
        },
        {
         "name": "id",
         "rawType": "object",
         "type": "string"
        },
        {
         "name": "y_true",
         "rawType": "float32",
         "type": "float"
        },
        {
         "name": "y_pred",
         "rawType": "float64",
         "type": "float"
        }
       ],
       "conversionMethod": "pd.DataFrame",
       "ref": "ef222108-62e9-4d8e-8834-385239670664",
       "rows": [
        [
         "0",
         "output_0_3_20250412_171617_3671575_C",
         "0",
         "85.0",
         "67.21864285714285"
        ],
        [
         "1",
         "output_0_3_20250412_171617_3671575_C",
         "1",
         "34.0",
         "32.93923015873017"
        ],
        [
         "2",
         "output_0_3_20250412_171617_3671575_C",
         "2",
         "6.0",
         "14.651392857142858"
        ],
        [
         "3",
         "output_0_3_20250412_171617_3671575_C",
         "3",
         "14.0",
         "24.501464285714277"
        ],
        [
         "4",
         "output_0_3_20250412_171617_3671575_C",
         "4",
         "51.0",
         "42.773920634920636"
        ],
        [
         "5",
         "output_0_3_20250412_171617_3671575_C",
         "5",
         "13.0",
         "18.83830158730159"
        ],
        [
         "6",
         "output_0_3_20250412_171617_3671575_C",
         "6",
         "21.0",
         "30.56655158730159"
        ],
        [
         "7",
         "output_0_3_20250412_171617_3671575_C",
         "7",
         "0.0",
         "19.138333333333332"
        ],
        [
         "8",
         "output_0_3_20250412_171617_3671575_C",
         "9",
         "19.0",
         "17.281527777777775"
        ],
        [
         "9",
         "output_0_3_20250412_171617_3671575_C",
         "10",
         "19.0",
         "28.164288359788358"
        ],
        [
         "10",
         "output_0_3_20250412_171617_3671575_C",
         "11",
         "23.0",
         "17.460559523809522"
        ],
        [
         "11",
         "output_0_3_20250412_171617_3671575_C",
         "12",
         "0.0",
         "8.64211904761905"
        ],
        [
         "12",
         "output_0_3_20250412_171617_3671575_C",
         "13",
         "9.0",
         "15.573599206349202"
        ],
        [
         "13",
         "output_0_3_20250412_171617_3671575_C",
         "14",
         "19.0",
         "26.79635978835978"
        ],
        [
         "14",
         "output_0_3_20250412_171617_3671575_C",
         "15",
         "9.0",
         "17.017912698412694"
        ],
        [
         "15",
         "output_0_3_20250412_171617_3671575_C",
         "16",
         "98.0",
         "69.82400793650795"
        ],
        [
         "16",
         "output_0_3_20250412_171617_3671575_C",
         "17",
         "97.0",
         "80.76816666666667"
        ],
        [
         "17",
         "output_0_3_20250412_171617_3671575_C",
         "18",
         "30.0",
         "27.235777777777777"
        ],
        [
         "18",
         "output_0_3_20250412_171617_3671575_C",
         "19",
         "16.0",
         "16.401798941798937"
        ],
        [
         "19",
         "output_0_3_20250412_171617_3671575_C",
         "20",
         "0.0",
         "26.13138095238095"
        ],
        [
         "20",
         "output_0_3_20250412_171617_3671575_C",
         "21",
         "13.0",
         "16.908511904761905"
        ],
        [
         "21",
         "output_0_3_20250412_171617_3671575_C",
         "22",
         "87.0",
         "65.91099999999999"
        ],
        [
         "22",
         "output_0_3_20250412_171617_3671575_C",
         "23",
         "28.0",
         "25.964694444444444"
        ],
        [
         "23",
         "output_0_3_20250412_171617_3671575_C",
         "24",
         "17.0",
         "22.2519947089947"
        ],
        [
         "24",
         "output_0_3_20250412_171617_3671575_C",
         "25",
         "1.0",
         "28.758761904761904"
        ],
        [
         "25",
         "output_0_3_20250412_171617_3671575_C",
         "26",
         "3.0",
         "31.837674603174605"
        ],
        [
         "26",
         "output_0_3_20250412_171617_3671575_C",
         "27",
         "24.0",
         "28.816"
        ],
        [
         "27",
         "output_0_3_20250412_171617_3671575_C",
         "28",
         "99.0",
         "51.72114814814815"
        ],
        [
         "28",
         "output_0_3_20250412_171617_3671575_C",
         "29",
         "99.0",
         "72.08755158730158"
        ],
        [
         "0",
         "output_0_4_20250412_171617_3671575_C",
         "0",
         "85.0",
         "63.36725396825397"
        ],
        [
         "1",
         "output_0_4_20250412_171617_3671575_C",
         "1",
         "34.0",
         "25.604332010582013"
        ],
        [
         "2",
         "output_0_4_20250412_171617_3671575_C",
         "2",
         "6.0",
         "24.741781746031744"
        ],
        [
         "3",
         "output_0_4_20250412_171617_3671575_C",
         "3",
         "14.0",
         "19.04612037037037"
        ],
        [
         "4",
         "output_0_4_20250412_171617_3671575_C",
         "4",
         "51.0",
         "41.592999999999996"
        ],
        [
         "5",
         "output_0_4_20250412_171617_3671575_C",
         "5",
         "13.0",
         "17.72595502645503"
        ],
        [
         "6",
         "output_0_4_20250412_171617_3671575_C",
         "6",
         "21.0",
         "38.265144179894186"
        ],
        [
         "7",
         "output_0_4_20250412_171617_3671575_C",
         "7",
         "0.0",
         "21.532472222222218"
        ],
        [
         "8",
         "output_0_4_20250412_171617_3671575_C",
         "9",
         "19.0",
         "21.38368783068783"
        ],
        [
         "9",
         "output_0_4_20250412_171617_3671575_C",
         "10",
         "19.0",
         "23.64200925925926"
        ],
        [
         "10",
         "output_0_4_20250412_171617_3671575_C",
         "11",
         "23.0",
         "20.891390211640214"
        ],
        [
         "11",
         "output_0_4_20250412_171617_3671575_C",
         "12",
         "0.0",
         "6.651727513227515"
        ],
        [
         "12",
         "output_0_4_20250412_171617_3671575_C",
         "13",
         "9.0",
         "16.786710317460315"
        ],
        [
         "13",
         "output_0_4_20250412_171617_3671575_C",
         "14",
         "19.0",
         "22.977080687830686"
        ],
        [
         "14",
         "output_0_4_20250412_171617_3671575_C",
         "15",
         "9.0",
         "16.549690476190474"
        ],
        [
         "15",
         "output_0_4_20250412_171617_3671575_C",
         "16",
         "98.0",
         "77.07811904761905"
        ],
        [
         "16",
         "output_0_4_20250412_171617_3671575_C",
         "17",
         "97.0",
         "90.6073650793651"
        ],
        [
         "17",
         "output_0_4_20250412_171617_3671575_C",
         "18",
         "30.0",
         "25.007892857142856"
        ],
        [
         "18",
         "output_0_4_20250412_171617_3671575_C",
         "19",
         "16.0",
         "14.986068783068779"
        ],
        [
         "19",
         "output_0_4_20250412_171617_3671575_C",
         "20",
         "0.0",
         "33.71098015873015"
        ],
        [
         "20",
         "output_0_4_20250412_171617_3671575_C",
         "21",
         "13.0",
         "17.911898148148143"
        ]
       ],
       "shape": {
        "columns": 4,
        "rows": 87
       }
      },
      "text/html": [
       "<div>\n",
       "<style scoped>\n",
       "    .dataframe tbody tr th:only-of-type {\n",
       "        vertical-align: middle;\n",
       "    }\n",
       "\n",
       "    .dataframe tbody tr th {\n",
       "        vertical-align: top;\n",
       "    }\n",
       "\n",
       "    .dataframe thead th {\n",
       "        text-align: right;\n",
       "    }\n",
       "</style>\n",
       "<table border=\"1\" class=\"dataframe\">\n",
       "  <thead>\n",
       "    <tr style=\"text-align: right;\">\n",
       "      <th></th>\n",
       "      <th>model</th>\n",
       "      <th>id</th>\n",
       "      <th>y_true</th>\n",
       "      <th>y_pred</th>\n",
       "    </tr>\n",
       "  </thead>\n",
       "  <tbody>\n",
       "    <tr>\n",
       "      <th>0</th>\n",
       "      <td>output_0_3_20250412_171617_3671575_C</td>\n",
       "      <td>0</td>\n",
       "      <td>85.0</td>\n",
       "      <td>67.218643</td>\n",
       "    </tr>\n",
       "    <tr>\n",
       "      <th>1</th>\n",
       "      <td>output_0_3_20250412_171617_3671575_C</td>\n",
       "      <td>1</td>\n",
       "      <td>34.0</td>\n",
       "      <td>32.939230</td>\n",
       "    </tr>\n",
       "    <tr>\n",
       "      <th>2</th>\n",
       "      <td>output_0_3_20250412_171617_3671575_C</td>\n",
       "      <td>2</td>\n",
       "      <td>6.0</td>\n",
       "      <td>14.651393</td>\n",
       "    </tr>\n",
       "    <tr>\n",
       "      <th>3</th>\n",
       "      <td>output_0_3_20250412_171617_3671575_C</td>\n",
       "      <td>3</td>\n",
       "      <td>14.0</td>\n",
       "      <td>24.501464</td>\n",
       "    </tr>\n",
       "    <tr>\n",
       "      <th>4</th>\n",
       "      <td>output_0_3_20250412_171617_3671575_C</td>\n",
       "      <td>4</td>\n",
       "      <td>51.0</td>\n",
       "      <td>42.773921</td>\n",
       "    </tr>\n",
       "    <tr>\n",
       "      <th>...</th>\n",
       "      <td>...</td>\n",
       "      <td>...</td>\n",
       "      <td>...</td>\n",
       "      <td>...</td>\n",
       "    </tr>\n",
       "    <tr>\n",
       "      <th>24</th>\n",
       "      <td>output_0_5_20250412_171617_3671575_C</td>\n",
       "      <td>25</td>\n",
       "      <td>1.0</td>\n",
       "      <td>10.542775</td>\n",
       "    </tr>\n",
       "    <tr>\n",
       "      <th>25</th>\n",
       "      <td>output_0_5_20250412_171617_3671575_C</td>\n",
       "      <td>26</td>\n",
       "      <td>3.0</td>\n",
       "      <td>10.199595</td>\n",
       "    </tr>\n",
       "    <tr>\n",
       "      <th>26</th>\n",
       "      <td>output_0_5_20250412_171617_3671575_C</td>\n",
       "      <td>27</td>\n",
       "      <td>24.0</td>\n",
       "      <td>37.562688</td>\n",
       "    </tr>\n",
       "    <tr>\n",
       "      <th>27</th>\n",
       "      <td>output_0_5_20250412_171617_3671575_C</td>\n",
       "      <td>28</td>\n",
       "      <td>99.0</td>\n",
       "      <td>69.900389</td>\n",
       "    </tr>\n",
       "    <tr>\n",
       "      <th>28</th>\n",
       "      <td>output_0_5_20250412_171617_3671575_C</td>\n",
       "      <td>29</td>\n",
       "      <td>99.0</td>\n",
       "      <td>80.212167</td>\n",
       "    </tr>\n",
       "  </tbody>\n",
       "</table>\n",
       "<p>87 rows × 4 columns</p>\n",
       "</div>"
      ],
      "text/plain": [
       "                                   model  id  y_true     y_pred\n",
       "0   output_0_3_20250412_171617_3671575_C   0    85.0  67.218643\n",
       "1   output_0_3_20250412_171617_3671575_C   1    34.0  32.939230\n",
       "2   output_0_3_20250412_171617_3671575_C   2     6.0  14.651393\n",
       "3   output_0_3_20250412_171617_3671575_C   3    14.0  24.501464\n",
       "4   output_0_3_20250412_171617_3671575_C   4    51.0  42.773921\n",
       "..                                   ...  ..     ...        ...\n",
       "24  output_0_5_20250412_171617_3671575_C  25     1.0  10.542775\n",
       "25  output_0_5_20250412_171617_3671575_C  26     3.0  10.199595\n",
       "26  output_0_5_20250412_171617_3671575_C  27    24.0  37.562688\n",
       "27  output_0_5_20250412_171617_3671575_C  28    99.0  69.900389\n",
       "28  output_0_5_20250412_171617_3671575_C  29    99.0  80.212167\n",
       "\n",
       "[87 rows x 4 columns]"
      ]
     },
     "execution_count": 9,
     "metadata": {},
     "output_type": "execute_result"
    }
   ],
   "source": [
    "result_all"
   ]
  },
  {
   "cell_type": "code",
   "execution_count": 10,
   "metadata": {},
   "outputs": [
    {
     "data": {
      "application/vnd.microsoft.datawrangler.viewer.v0+json": {
       "columns": [
        {
         "name": "index",
         "rawType": "int64",
         "type": "integer"
        },
        {
         "name": "id",
         "rawType": "object",
         "type": "string"
        },
        {
         "name": "y_true",
         "rawType": "float32",
         "type": "float"
        },
        {
         "name": "y_pred_mean",
         "rawType": "float64",
         "type": "float"
        },
        {
         "name": "y_pred_std",
         "rawType": "float64",
         "type": "float"
        }
       ],
       "conversionMethod": "pd.DataFrame",
       "ref": "3dd17770-8acf-4162-adcb-67b6d93ee434",
       "rows": [
        [
         "0",
         "0",
         "85.0",
         "64.2745291005291",
         "2.6114809552364"
        ],
        [
         "1",
         "1",
         "34.0",
         "31.88803130511464",
         "5.829620773178567"
        ],
        [
         "2",
         "10",
         "19.0",
         "25.573595558762225",
         "2.3320737769275537"
        ],
        [
         "3",
         "11",
         "23.0",
         "19.503466490299825",
         "1.8067656435494162"
        ],
        [
         "4",
         "12",
         "0.0",
         "8.110383477633478",
         "1.2785932419024886"
        ],
        [
         "5",
         "13",
         "9.0",
         "14.94395767195767",
         "2.2254121814972314"
        ],
        [
         "6",
         "14",
         "19.0",
         "26.02036363636363",
         "2.739008082362512"
        ],
        [
         "7",
         "15",
         "9.0",
         "16.347142416225747",
         "0.7917207256347316"
        ],
        [
         "8",
         "16",
         "98.0",
         "63.409195767195776",
         "17.767184757701674"
        ],
        [
         "9",
         "17",
         "97.0",
         "71.5212372134039",
         "25.02546821024405"
        ],
        [
         "10",
         "18",
         "30.0",
         "26.594623015873015",
         "1.3825528663343196"
        ],
        [
         "11",
         "19",
         "16.0",
         "15.314790885040884",
         "0.9655677928057463"
        ],
        [
         "12",
         "2",
         "6.0",
         "19.135658289241622",
         "5.137889747058259"
        ],
        [
         "13",
         "20",
         "0.0",
         "28.329779100529095",
         "4.686177205932711"
        ],
        [
         "14",
         "21",
         "13.0",
         "16.35985890652557",
         "1.887161069783594"
        ],
        [
         "15",
         "22",
         "87.0",
         "77.05230158730159",
         "9.754476065913732"
        ],
        [
         "16",
         "23",
         "28.0",
         "26.29254673721341",
         "2.594833899394733"
        ],
        [
         "17",
         "24",
         "17.0",
         "24.130269721019715",
         "1.6524141290948768"
        ],
        [
         "18",
         "25",
         "1.0",
         "15.902959435626101",
         "11.184532278521347"
        ],
        [
         "19",
         "26",
         "3.0",
         "19.238358465608467",
         "11.249878773628325"
        ],
        [
         "20",
         "27",
         "24.0",
         "32.835438271604936",
         "4.416093818736929"
        ],
        [
         "21",
         "28",
         "99.0",
         "67.51749779541447",
         "14.749978008735182"
        ],
        [
         "22",
         "29",
         "99.0",
         "77.02941666666668",
         "4.338571993617131"
        ],
        [
         "23",
         "3",
         "14.0",
         "25.33311275452942",
         "6.741400448267021"
        ],
        [
         "24",
         "4",
         "51.0",
         "40.948608465608466",
         "2.21883317862366"
        ],
        [
         "25",
         "5",
         "13.0",
         "18.698580246913583",
         "0.9108377313957834"
        ],
        [
         "26",
         "6",
         "21.0",
         "38.20421340388007",
         "7.607379438576013"
        ],
        [
         "27",
         "7",
         "0.0",
         "18.101570105820105",
         "4.050061786410073"
        ],
        [
         "28",
         "9",
         "19.0",
         "19.72495975629309",
         "2.1607289135334193"
        ]
       ],
       "shape": {
        "columns": 4,
        "rows": 29
       }
      },
      "text/html": [
       "<div>\n",
       "<style scoped>\n",
       "    .dataframe tbody tr th:only-of-type {\n",
       "        vertical-align: middle;\n",
       "    }\n",
       "\n",
       "    .dataframe tbody tr th {\n",
       "        vertical-align: top;\n",
       "    }\n",
       "\n",
       "    .dataframe thead th {\n",
       "        text-align: right;\n",
       "    }\n",
       "</style>\n",
       "<table border=\"1\" class=\"dataframe\">\n",
       "  <thead>\n",
       "    <tr style=\"text-align: right;\">\n",
       "      <th></th>\n",
       "      <th>id</th>\n",
       "      <th>y_true</th>\n",
       "      <th>y_pred_mean</th>\n",
       "      <th>y_pred_std</th>\n",
       "    </tr>\n",
       "  </thead>\n",
       "  <tbody>\n",
       "    <tr>\n",
       "      <th>0</th>\n",
       "      <td>0</td>\n",
       "      <td>85.0</td>\n",
       "      <td>64.274529</td>\n",
       "      <td>2.611481</td>\n",
       "    </tr>\n",
       "    <tr>\n",
       "      <th>1</th>\n",
       "      <td>1</td>\n",
       "      <td>34.0</td>\n",
       "      <td>31.888031</td>\n",
       "      <td>5.829621</td>\n",
       "    </tr>\n",
       "    <tr>\n",
       "      <th>2</th>\n",
       "      <td>10</td>\n",
       "      <td>19.0</td>\n",
       "      <td>25.573596</td>\n",
       "      <td>2.332074</td>\n",
       "    </tr>\n",
       "    <tr>\n",
       "      <th>3</th>\n",
       "      <td>11</td>\n",
       "      <td>23.0</td>\n",
       "      <td>19.503466</td>\n",
       "      <td>1.806766</td>\n",
       "    </tr>\n",
       "    <tr>\n",
       "      <th>4</th>\n",
       "      <td>12</td>\n",
       "      <td>0.0</td>\n",
       "      <td>8.110383</td>\n",
       "      <td>1.278593</td>\n",
       "    </tr>\n",
       "    <tr>\n",
       "      <th>5</th>\n",
       "      <td>13</td>\n",
       "      <td>9.0</td>\n",
       "      <td>14.943958</td>\n",
       "      <td>2.225412</td>\n",
       "    </tr>\n",
       "    <tr>\n",
       "      <th>6</th>\n",
       "      <td>14</td>\n",
       "      <td>19.0</td>\n",
       "      <td>26.020364</td>\n",
       "      <td>2.739008</td>\n",
       "    </tr>\n",
       "    <tr>\n",
       "      <th>7</th>\n",
       "      <td>15</td>\n",
       "      <td>9.0</td>\n",
       "      <td>16.347142</td>\n",
       "      <td>0.791721</td>\n",
       "    </tr>\n",
       "    <tr>\n",
       "      <th>8</th>\n",
       "      <td>16</td>\n",
       "      <td>98.0</td>\n",
       "      <td>63.409196</td>\n",
       "      <td>17.767185</td>\n",
       "    </tr>\n",
       "    <tr>\n",
       "      <th>9</th>\n",
       "      <td>17</td>\n",
       "      <td>97.0</td>\n",
       "      <td>71.521237</td>\n",
       "      <td>25.025468</td>\n",
       "    </tr>\n",
       "    <tr>\n",
       "      <th>10</th>\n",
       "      <td>18</td>\n",
       "      <td>30.0</td>\n",
       "      <td>26.594623</td>\n",
       "      <td>1.382553</td>\n",
       "    </tr>\n",
       "    <tr>\n",
       "      <th>11</th>\n",
       "      <td>19</td>\n",
       "      <td>16.0</td>\n",
       "      <td>15.314791</td>\n",
       "      <td>0.965568</td>\n",
       "    </tr>\n",
       "    <tr>\n",
       "      <th>12</th>\n",
       "      <td>2</td>\n",
       "      <td>6.0</td>\n",
       "      <td>19.135658</td>\n",
       "      <td>5.137890</td>\n",
       "    </tr>\n",
       "    <tr>\n",
       "      <th>13</th>\n",
       "      <td>20</td>\n",
       "      <td>0.0</td>\n",
       "      <td>28.329779</td>\n",
       "      <td>4.686177</td>\n",
       "    </tr>\n",
       "    <tr>\n",
       "      <th>14</th>\n",
       "      <td>21</td>\n",
       "      <td>13.0</td>\n",
       "      <td>16.359859</td>\n",
       "      <td>1.887161</td>\n",
       "    </tr>\n",
       "    <tr>\n",
       "      <th>15</th>\n",
       "      <td>22</td>\n",
       "      <td>87.0</td>\n",
       "      <td>77.052302</td>\n",
       "      <td>9.754476</td>\n",
       "    </tr>\n",
       "    <tr>\n",
       "      <th>16</th>\n",
       "      <td>23</td>\n",
       "      <td>28.0</td>\n",
       "      <td>26.292547</td>\n",
       "      <td>2.594834</td>\n",
       "    </tr>\n",
       "    <tr>\n",
       "      <th>17</th>\n",
       "      <td>24</td>\n",
       "      <td>17.0</td>\n",
       "      <td>24.130270</td>\n",
       "      <td>1.652414</td>\n",
       "    </tr>\n",
       "    <tr>\n",
       "      <th>18</th>\n",
       "      <td>25</td>\n",
       "      <td>1.0</td>\n",
       "      <td>15.902959</td>\n",
       "      <td>11.184532</td>\n",
       "    </tr>\n",
       "    <tr>\n",
       "      <th>19</th>\n",
       "      <td>26</td>\n",
       "      <td>3.0</td>\n",
       "      <td>19.238358</td>\n",
       "      <td>11.249879</td>\n",
       "    </tr>\n",
       "    <tr>\n",
       "      <th>20</th>\n",
       "      <td>27</td>\n",
       "      <td>24.0</td>\n",
       "      <td>32.835438</td>\n",
       "      <td>4.416094</td>\n",
       "    </tr>\n",
       "    <tr>\n",
       "      <th>21</th>\n",
       "      <td>28</td>\n",
       "      <td>99.0</td>\n",
       "      <td>67.517498</td>\n",
       "      <td>14.749978</td>\n",
       "    </tr>\n",
       "    <tr>\n",
       "      <th>22</th>\n",
       "      <td>29</td>\n",
       "      <td>99.0</td>\n",
       "      <td>77.029417</td>\n",
       "      <td>4.338572</td>\n",
       "    </tr>\n",
       "    <tr>\n",
       "      <th>23</th>\n",
       "      <td>3</td>\n",
       "      <td>14.0</td>\n",
       "      <td>25.333113</td>\n",
       "      <td>6.741400</td>\n",
       "    </tr>\n",
       "    <tr>\n",
       "      <th>24</th>\n",
       "      <td>4</td>\n",
       "      <td>51.0</td>\n",
       "      <td>40.948608</td>\n",
       "      <td>2.218833</td>\n",
       "    </tr>\n",
       "    <tr>\n",
       "      <th>25</th>\n",
       "      <td>5</td>\n",
       "      <td>13.0</td>\n",
       "      <td>18.698580</td>\n",
       "      <td>0.910838</td>\n",
       "    </tr>\n",
       "    <tr>\n",
       "      <th>26</th>\n",
       "      <td>6</td>\n",
       "      <td>21.0</td>\n",
       "      <td>38.204213</td>\n",
       "      <td>7.607379</td>\n",
       "    </tr>\n",
       "    <tr>\n",
       "      <th>27</th>\n",
       "      <td>7</td>\n",
       "      <td>0.0</td>\n",
       "      <td>18.101570</td>\n",
       "      <td>4.050062</td>\n",
       "    </tr>\n",
       "    <tr>\n",
       "      <th>28</th>\n",
       "      <td>9</td>\n",
       "      <td>19.0</td>\n",
       "      <td>19.724960</td>\n",
       "      <td>2.160729</td>\n",
       "    </tr>\n",
       "  </tbody>\n",
       "</table>\n",
       "</div>"
      ],
      "text/plain": [
       "    id  y_true  y_pred_mean  y_pred_std\n",
       "0    0    85.0    64.274529    2.611481\n",
       "1    1    34.0    31.888031    5.829621\n",
       "2   10    19.0    25.573596    2.332074\n",
       "3   11    23.0    19.503466    1.806766\n",
       "4   12     0.0     8.110383    1.278593\n",
       "5   13     9.0    14.943958    2.225412\n",
       "6   14    19.0    26.020364    2.739008\n",
       "7   15     9.0    16.347142    0.791721\n",
       "8   16    98.0    63.409196   17.767185\n",
       "9   17    97.0    71.521237   25.025468\n",
       "10  18    30.0    26.594623    1.382553\n",
       "11  19    16.0    15.314791    0.965568\n",
       "12   2     6.0    19.135658    5.137890\n",
       "13  20     0.0    28.329779    4.686177\n",
       "14  21    13.0    16.359859    1.887161\n",
       "15  22    87.0    77.052302    9.754476\n",
       "16  23    28.0    26.292547    2.594834\n",
       "17  24    17.0    24.130270    1.652414\n",
       "18  25     1.0    15.902959   11.184532\n",
       "19  26     3.0    19.238358   11.249879\n",
       "20  27    24.0    32.835438    4.416094\n",
       "21  28    99.0    67.517498   14.749978\n",
       "22  29    99.0    77.029417    4.338572\n",
       "23   3    14.0    25.333113    6.741400\n",
       "24   4    51.0    40.948608    2.218833\n",
       "25   5    13.0    18.698580    0.910838\n",
       "26   6    21.0    38.204213    7.607379\n",
       "27   7     0.0    18.101570    4.050062\n",
       "28   9    19.0    19.724960    2.160729"
      ]
     },
     "execution_count": 10,
     "metadata": {},
     "output_type": "execute_result"
    }
   ],
   "source": [
    "result_all_avg_std = result_all.groupby('id').agg({'y_true': 'mean', 'y_pred': ['mean', 'std']}).reset_index()\n",
    "result_all_avg_std.columns = ['id', 'y_true', 'y_pred_mean', 'y_pred_std']\n",
    "result_all_avg_std"
   ]
  },
  {
   "cell_type": "code",
   "execution_count": 11,
   "metadata": {},
   "outputs": [
    {
     "name": "stdout",
     "output_type": "stream",
     "text": [
      "R2: 0.7976267227357172\n",
      "MAE: 11.918757109961133\n",
      "MSE: 228.08696717318585\n",
      "RMSE: 15.102548366854709\n"
     ]
    }
   ],
   "source": [
    "y_true_all = result_all_avg_std['y_true'].values\n",
    "y_pred_all = result_all_avg_std['y_pred_mean'].values\n",
    "\n",
    "\n",
    "r2 = metrics.r2_score(y_true_all, y_pred_all)\n",
    "print('R2:', r2)\n",
    "mae = metrics.mean_absolute_error(y_true_all, y_pred_all)\n",
    "print('MAE:', mae)\n",
    "mse = metrics.mean_squared_error(y_true_all, y_pred_all)\n",
    "print('MSE:', mse)\n",
    "rmse = np.sqrt(mse)\n",
    "print('RMSE:', rmse)"
   ]
  },
  {
   "cell_type": "code",
   "execution_count": 20,
   "metadata": {},
   "outputs": [
    {
     "data": {
      "text/plain": [
       "<Figure size 1500x1500 with 0 Axes>"
      ]
     },
     "metadata": {},
     "output_type": "display_data"
    },
    {
     "data": {
      "image/png": "[encoded data removed]",
      "text/plain": [
       "<Figure size 1200x1200 with 1 Axes>"
      ]
     },
     "metadata": {},
     "output_type": "display_data"
    }
   ],
   "source": [
    "sns.set_style(style='ticks')\n",
    "color_1 = '#1C3077' # blue\n",
    "color_2 = '#AED6F1' # light blue\n",
    "plt.figure(figsize=(5, 5), dpi=300)\n",
    "# plt.scatter(y_true_all, y_pred_all, s=20, color=color_1, edgecolor=\"none\")\n",
    "# scatter with error bars on y_pred_all\n",
    "# plt.scatter(y_true_all, y_pred_all, s=20, color=color_1, edgecolor=\"none\")\n",
    "ax = sns.lmplot(x='y_true', y='y_pred', data=pd.DataFrame({'y_true':y_true_all, 'y_pred':y_pred_all}), \n",
    "                scatter_kws={\"s\": 20, \"color\": color_1, \"edgecolor\": \"none\"}, \n",
    "                line_kws={\"color\": color_1})\n",
    "ax.fig.set_dpi(300)\n",
    "ax.fig.set_size_inches(4, 4)\n",
    "# plt.errorbar(y_true_all, y_pred_all, yerr=result_all_avg_std['y_pred_std'].values, \n",
    "#              fmt='o', color=color_1, ecolor='darkgrey', elinewidth=1, capsize=2, markersize=4)\n",
    "plt.plot([0, 100], [0, 100], color='lightgrey', linestyle='--', zorder=-1)\n",
    "# plt.text(0, 90, 'R$^2$ = %.2f \\nRMSE = %.2f' % (r2, rmse), fontsize=14)\n",
    "plt.xlim((-10,110))\n",
    "plt.ylim((-10,110))\n",
    "plt.xlabel('Actual value (%)')\n",
    "plt.ylabel('Predicted value (%)')\n",
    "sns.despine()\n",
    "plt.savefig('dataset/'+file_trained+'/scatter_plot_all.pdf', bbox_inches='tight')\n"
   ]
  },
  {
   "cell_type": "code",
   "execution_count": null,
   "metadata": {},
   "outputs": [],
   "source": []
  }
 ],
 "metadata": {
  "kernelspec": {
   "display_name": "multimolrep38",
   "language": "python",
   "name": "python3"
  },
  "language_info": {
   "codemirror_mode": {
    "name": "ipython",
    "version": 3
   },
   "file_extension": ".py",
   "mimetype": "text/x-python",
   "name": "python",
   "nbconvert_exporter": "python",
   "pygments_lexer": "ipython3",
   "version": "3.8.18"
  }
 },
 "nbformat": 4,
 "nbformat_minor": 2
}
